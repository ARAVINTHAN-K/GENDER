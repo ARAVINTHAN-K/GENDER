{
 "cells": [
  {
   "cell_type": "code",
   "execution_count": 1,
   "id": "f8ea27d4",
   "metadata": {
    "_cell_guid": "b1076dfc-b9ad-4769-8c92-a6c4dae69d19",
    "_uuid": "8f2839f25d086af736a60e9eeb907d3b93b6e0e5",
    "execution": {
     "iopub.execute_input": "2022-03-25T17:23:38.487782Z",
     "iopub.status.busy": "2022-03-25T17:23:38.485968Z",
     "iopub.status.idle": "2022-03-25T17:23:38.501663Z",
     "shell.execute_reply": "2022-03-25T17:23:38.500619Z",
     "shell.execute_reply.started": "2022-03-25T17:22:15.583063Z"
    },
    "papermill": {
     "duration": 0.052326,
     "end_time": "2022-03-25T17:23:38.501915",
     "exception": false,
     "start_time": "2022-03-25T17:23:38.449589",
     "status": "completed"
    },
    "tags": []
   },
   "outputs": [],
   "source": [
    "\n",
    "import numpy as np \n",
    "import pandas as pd \n",
    "\n",
    "import os\n",
    "for dirname, _, filenames in os.walk('/kaggle/input'):\n",
    "    for filename in filenames:\n",
    "        print(os.path.join(dirname, filename))"
   ]
  },
  {
   "cell_type": "markdown",
   "id": "3d2cdcd9",
   "metadata": {
    "papermill": {
     "duration": 0.030458,
     "end_time": "2022-03-25T17:23:38.564696",
     "exception": false,
     "start_time": "2022-03-25T17:23:38.534238",
     "status": "completed"
    },
    "tags": []
   },
   "source": [
    "# Gender Classification"
   ]
  },
  {
   "cell_type": "markdown",
   "id": "a087d33a",
   "metadata": {
    "papermill": {
     "duration": 0.032363,
     "end_time": "2022-03-25T17:23:38.628743",
     "exception": false,
     "start_time": "2022-03-25T17:23:38.596380",
     "status": "completed"
    },
    "tags": []
   },
   "source": [
    "## Steps\n",
    "* Problem Definition\n",
    "* Exploratory Data Analysis\n",
    "* Data Preprocessing \n",
    "* Model Building\n",
    "* Predictions and Submission"
   ]
  },
  {
   "cell_type": "markdown",
   "id": "9a12b00b",
   "metadata": {
    "papermill": {
     "duration": 0.03236,
     "end_time": "2022-03-25T17:23:38.692390",
     "exception": false,
     "start_time": "2022-03-25T17:23:38.660030",
     "status": "completed"
    },
    "tags": []
   },
   "source": [
    "### Problem Definition"
   ]
  },
  {
   "cell_type": "markdown",
   "id": "6d3f4ae8",
   "metadata": {
    "papermill": {
     "duration": 0.031621,
     "end_time": "2022-03-25T17:23:38.756300",
     "exception": false,
     "start_time": "2022-03-25T17:23:38.724679",
     "status": "completed"
    },
    "tags": []
   },
   "source": [
    "To build a model to predict whether a person's gender can be predicted with an accuracy significantly above 50% based on their personal preferences."
   ]
  },
  {
   "cell_type": "markdown",
   "id": "b5052a51",
   "metadata": {
    "papermill": {
     "duration": 0.030475,
     "end_time": "2022-03-25T17:23:38.817805",
     "exception": false,
     "start_time": "2022-03-25T17:23:38.787330",
     "status": "completed"
    },
    "tags": []
   },
   "source": [
    "### Exploratory Data Analysis"
   ]
  },
  {
   "cell_type": "code",
   "execution_count": 4,
   "id": "7581cdd9",
   "metadata": {},
   "outputs": [
    {
     "name": "stdout",
     "output_type": "stream",
     "text": [
      "Collecting catboost\n",
      "  Downloading catboost-1.0.5-cp38-none-win_amd64.whl (73.9 MB)\n",
      "Requirement already satisfied: scipy in c:\\users\\abdes\\anaconda3\\lib\\site-packages (from catboost) (1.6.2)\n",
      "Requirement already satisfied: pandas>=0.24.0 in c:\\users\\abdes\\anaconda3\\lib\\site-packages (from catboost) (1.2.4)\n",
      "Requirement already satisfied: six in c:\\users\\abdes\\anaconda3\\lib\\site-packages (from catboost) (1.15.0)\n",
      "Requirement already satisfied: numpy>=1.16.0 in c:\\users\\abdes\\anaconda3\\lib\\site-packages (from catboost) (1.20.1)\n",
      "Collecting graphviz\n",
      "  Downloading graphviz-0.20-py3-none-any.whl (46 kB)\n",
      "Requirement already satisfied: matplotlib in c:\\users\\abdes\\anaconda3\\lib\\site-packages (from catboost) (3.3.4)\n",
      "Collecting plotly\n",
      "  Downloading plotly-5.8.0-py2.py3-none-any.whl (15.2 MB)\n",
      "Requirement already satisfied: pytz>=2017.3 in c:\\users\\abdes\\anaconda3\\lib\\site-packages (from pandas>=0.24.0->catboost) (2021.1)\n",
      "Requirement already satisfied: python-dateutil>=2.7.3 in c:\\users\\abdes\\anaconda3\\lib\\site-packages (from pandas>=0.24.0->catboost) (2.8.1)\n",
      "Requirement already satisfied: pillow>=6.2.0 in c:\\users\\abdes\\anaconda3\\lib\\site-packages (from matplotlib->catboost) (8.2.0)\n",
      "Requirement already satisfied: kiwisolver>=1.0.1 in c:\\users\\abdes\\anaconda3\\lib\\site-packages (from matplotlib->catboost) (1.3.1)\n",
      "Requirement already satisfied: pyparsing!=2.0.4,!=2.1.2,!=2.1.6,>=2.0.3 in c:\\users\\abdes\\anaconda3\\lib\\site-packages (from matplotlib->catboost) (2.4.7)\n",
      "Requirement already satisfied: cycler>=0.10 in c:\\users\\abdes\\anaconda3\\lib\\site-packages (from matplotlib->catboost) (0.10.0)\n",
      "Collecting tenacity>=6.2.0\n",
      "  Downloading tenacity-8.0.1-py3-none-any.whl (24 kB)\n",
      "Installing collected packages: tenacity, plotly, graphviz, catboost\n",
      "Successfully installed catboost-1.0.5 graphviz-0.20 plotly-5.8.0 tenacity-8.0.1\n"
     ]
    }
   ],
   "source": [
    "!pip3 install catboost"
   ]
  },
  {
   "cell_type": "code",
   "execution_count": 5,
   "id": "1a050b9e",
   "metadata": {
    "execution": {
     "iopub.execute_input": "2022-03-25T17:23:38.887439Z",
     "iopub.status.busy": "2022-03-25T17:23:38.886453Z",
     "iopub.status.idle": "2022-03-25T17:23:40.431003Z",
     "shell.execute_reply": "2022-03-25T17:23:40.429774Z",
     "shell.execute_reply.started": "2022-03-25T17:22:16.986031Z"
    },
    "papermill": {
     "duration": 1.582114,
     "end_time": "2022-03-25T17:23:40.431174",
     "exception": false,
     "start_time": "2022-03-25T17:23:38.849060",
     "status": "completed"
    },
    "tags": []
   },
   "outputs": [],
   "source": [
    "# Visualization Libraries\n",
    "import matplotlib.pyplot as plt\n",
    "import seaborn as sns\n",
    "%matplotlib inline\n",
    "\n",
    "# ML Libraries\n",
    "from sklearn.preprocessing import OneHotEncoder, LabelEncoder\n",
    "from sklearn.tree import DecisionTreeClassifier\n",
    "from catboost import CatBoostClassifier\n",
    "\n",
    "# Metrics\n",
    "from sklearn.metrics import accuracy_score,confusion_matrix,ConfusionMatrixDisplay,classification_report"
   ]
  },
  {
   "cell_type": "code",
   "execution_count": 6,
   "id": "0faec77e",
   "metadata": {
    "execution": {
     "iopub.execute_input": "2022-03-25T17:23:40.500275Z",
     "iopub.status.busy": "2022-03-25T17:23:40.499629Z",
     "iopub.status.idle": "2022-03-25T17:23:40.521078Z",
     "shell.execute_reply": "2022-03-25T17:23:40.522048Z",
     "shell.execute_reply.started": "2022-03-25T17:22:18.322482Z"
    },
    "papermill": {
     "duration": 0.057577,
     "end_time": "2022-03-25T17:23:40.522232",
     "exception": false,
     "start_time": "2022-03-25T17:23:40.464655",
     "status": "completed"
    },
    "tags": []
   },
   "outputs": [],
   "source": [
    "# Reading training and testing data\n",
    "train_data = pd.read_csv('train.csv')\n",
    "test_data = pd.read_csv('test.csv')"
   ]
  },
  {
   "cell_type": "code",
   "execution_count": 7,
   "id": "85a328bd",
   "metadata": {
    "execution": {
     "iopub.execute_input": "2022-03-25T17:23:40.588590Z",
     "iopub.status.busy": "2022-03-25T17:23:40.587938Z",
     "iopub.status.idle": "2022-03-25T17:23:40.611400Z",
     "shell.execute_reply": "2022-03-25T17:23:40.611938Z",
     "shell.execute_reply.started": "2022-03-25T17:22:19.725183Z"
    },
    "papermill": {
     "duration": 0.057739,
     "end_time": "2022-03-25T17:23:40.612121",
     "exception": false,
     "start_time": "2022-03-25T17:23:40.554382",
     "status": "completed"
    },
    "tags": []
   },
   "outputs": [
    {
     "data": {
      "text/html": [
       "<div>\n",
       "<style scoped>\n",
       "    .dataframe tbody tr th:only-of-type {\n",
       "        vertical-align: middle;\n",
       "    }\n",
       "\n",
       "    .dataframe tbody tr th {\n",
       "        vertical-align: top;\n",
       "    }\n",
       "\n",
       "    .dataframe thead th {\n",
       "        text-align: right;\n",
       "    }\n",
       "</style>\n",
       "<table border=\"1\" class=\"dataframe\">\n",
       "  <thead>\n",
       "    <tr style=\"text-align: right;\">\n",
       "      <th></th>\n",
       "      <th>ID</th>\n",
       "      <th>Favorite Color</th>\n",
       "      <th>Favorite Music Genre</th>\n",
       "      <th>Favorite Beverage</th>\n",
       "      <th>Favorite Soft Drink</th>\n",
       "      <th>Gender</th>\n",
       "    </tr>\n",
       "  </thead>\n",
       "  <tbody>\n",
       "    <tr>\n",
       "      <th>33</th>\n",
       "      <td>34</td>\n",
       "      <td>Warm</td>\n",
       "      <td>Rock</td>\n",
       "      <td>Vodka</td>\n",
       "      <td>7UP/Sprite</td>\n",
       "      <td>M</td>\n",
       "    </tr>\n",
       "  </tbody>\n",
       "</table>\n",
       "</div>"
      ],
      "text/plain": [
       "    ID Favorite Color Favorite Music Genre Favorite Beverage  \\\n",
       "33  34           Warm                 Rock             Vodka   \n",
       "\n",
       "   Favorite Soft Drink Gender  \n",
       "33          7UP/Sprite      M  "
      ]
     },
     "execution_count": 7,
     "metadata": {},
     "output_type": "execute_result"
    }
   ],
   "source": [
    "# Training data sample\n",
    "train_data.sample()"
   ]
  },
  {
   "cell_type": "code",
   "execution_count": 8,
   "id": "00789e31",
   "metadata": {
    "execution": {
     "iopub.execute_input": "2022-03-25T17:23:40.678473Z",
     "iopub.status.busy": "2022-03-25T17:23:40.677509Z",
     "iopub.status.idle": "2022-03-25T17:23:40.688441Z",
     "shell.execute_reply": "2022-03-25T17:23:40.688998Z",
     "shell.execute_reply.started": "2022-03-25T17:22:21.157119Z"
    },
    "papermill": {
     "duration": 0.045746,
     "end_time": "2022-03-25T17:23:40.689182",
     "exception": false,
     "start_time": "2022-03-25T17:23:40.643436",
     "status": "completed"
    },
    "tags": []
   },
   "outputs": [
    {
     "data": {
      "text/html": [
       "<div>\n",
       "<style scoped>\n",
       "    .dataframe tbody tr th:only-of-type {\n",
       "        vertical-align: middle;\n",
       "    }\n",
       "\n",
       "    .dataframe tbody tr th {\n",
       "        vertical-align: top;\n",
       "    }\n",
       "\n",
       "    .dataframe thead th {\n",
       "        text-align: right;\n",
       "    }\n",
       "</style>\n",
       "<table border=\"1\" class=\"dataframe\">\n",
       "  <thead>\n",
       "    <tr style=\"text-align: right;\">\n",
       "      <th></th>\n",
       "      <th>ID</th>\n",
       "      <th>Favorite Color</th>\n",
       "      <th>Favorite Music Genre</th>\n",
       "      <th>Favorite Beverage</th>\n",
       "      <th>Favorite Soft Drink</th>\n",
       "      <th>Gender</th>\n",
       "    </tr>\n",
       "  </thead>\n",
       "  <tbody>\n",
       "    <tr>\n",
       "      <th>0</th>\n",
       "      <td>56</td>\n",
       "      <td>Cool</td>\n",
       "      <td>Rock</td>\n",
       "      <td>Vodka</td>\n",
       "      <td>7UP/Sprite</td>\n",
       "      <td>F</td>\n",
       "    </tr>\n",
       "  </tbody>\n",
       "</table>\n",
       "</div>"
      ],
      "text/plain": [
       "   ID Favorite Color Favorite Music Genre Favorite Beverage  \\\n",
       "0  56           Cool                 Rock             Vodka   \n",
       "\n",
       "  Favorite Soft Drink Gender  \n",
       "0          7UP/Sprite      F  "
      ]
     },
     "execution_count": 8,
     "metadata": {},
     "output_type": "execute_result"
    }
   ],
   "source": [
    "# Test data sample\n",
    "test_data.sample()"
   ]
  },
  {
   "cell_type": "code",
   "execution_count": 9,
   "id": "b95b3123",
   "metadata": {
    "execution": {
     "iopub.execute_input": "2022-03-25T17:23:40.756333Z",
     "iopub.status.busy": "2022-03-25T17:23:40.755383Z",
     "iopub.status.idle": "2022-03-25T17:23:40.760355Z",
     "shell.execute_reply": "2022-03-25T17:23:40.760955Z",
     "shell.execute_reply.started": "2022-03-25T17:22:22.804926Z"
    },
    "papermill": {
     "duration": 0.040239,
     "end_time": "2022-03-25T17:23:40.761130",
     "exception": false,
     "start_time": "2022-03-25T17:23:40.720891",
     "status": "completed"
    },
    "tags": []
   },
   "outputs": [
    {
     "data": {
      "text/plain": [
       "(55, 6)"
      ]
     },
     "execution_count": 9,
     "metadata": {},
     "output_type": "execute_result"
    }
   ],
   "source": [
    "# Training data shape\n",
    "train_data.shape"
   ]
  },
  {
   "cell_type": "code",
   "execution_count": 10,
   "id": "001e5997",
   "metadata": {
    "execution": {
     "iopub.execute_input": "2022-03-25T17:23:40.834729Z",
     "iopub.status.busy": "2022-03-25T17:23:40.829410Z",
     "iopub.status.idle": "2022-03-25T17:23:40.836698Z",
     "shell.execute_reply": "2022-03-25T17:23:40.837223Z",
     "shell.execute_reply.started": "2022-03-25T17:22:24.471408Z"
    },
    "papermill": {
     "duration": 0.043448,
     "end_time": "2022-03-25T17:23:40.837426",
     "exception": false,
     "start_time": "2022-03-25T17:23:40.793978",
     "status": "completed"
    },
    "tags": []
   },
   "outputs": [
    {
     "data": {
      "text/plain": [
       "(11, 6)"
      ]
     },
     "execution_count": 10,
     "metadata": {},
     "output_type": "execute_result"
    }
   ],
   "source": [
    "# test data shape\n",
    "test_data.shape"
   ]
  },
  {
   "cell_type": "code",
   "execution_count": 11,
   "id": "368a02ce",
   "metadata": {
    "execution": {
     "iopub.execute_input": "2022-03-25T17:23:40.922047Z",
     "iopub.status.busy": "2022-03-25T17:23:40.921399Z",
     "iopub.status.idle": "2022-03-25T17:23:40.935044Z",
     "shell.execute_reply": "2022-03-25T17:23:40.935692Z",
     "shell.execute_reply.started": "2022-03-25T17:22:26.258122Z"
    },
    "papermill": {
     "duration": 0.056441,
     "end_time": "2022-03-25T17:23:40.935879",
     "exception": false,
     "start_time": "2022-03-25T17:23:40.879438",
     "status": "completed"
    },
    "tags": []
   },
   "outputs": [
    {
     "data": {
      "text/plain": [
       "ID                      55\n",
       "Favorite Color           3\n",
       "Favorite Music Genre     7\n",
       "Favorite Beverage        6\n",
       "Favorite Soft Drink      4\n",
       "Gender                   2\n",
       "dtype: int64"
      ]
     },
     "execution_count": 11,
     "metadata": {},
     "output_type": "execute_result"
    }
   ],
   "source": [
    "# Unique values in training data\n",
    "train_data.nunique()"
   ]
  },
  {
   "cell_type": "code",
   "execution_count": 13,
   "id": "efd9ceb7",
   "metadata": {
    "execution": {
     "iopub.execute_input": "2022-03-25T17:23:41.018323Z",
     "iopub.status.busy": "2022-03-25T17:23:41.010369Z",
     "iopub.status.idle": "2022-03-25T17:23:41.299377Z",
     "shell.execute_reply": "2022-03-25T17:23:41.299918Z",
     "shell.execute_reply.started": "2022-03-25T17:22:27.544985Z"
    },
    "papermill": {
     "duration": 0.330472,
     "end_time": "2022-03-25T17:23:41.300164",
     "exception": false,
     "start_time": "2022-03-25T17:23:40.969692",
     "status": "completed"
    },
    "tags": []
   },
   "outputs": [
    {
     "data": {
      "image/png": "[encoded data removed]",
      "text/plain": [
       "<Figure size 432x360 with 1 Axes>"
      ]
     },
     "metadata": {
      "needs_background": "light"
     },
     "output_type": "display_data"
    }
   ],
   "source": [
    "# Plotting gender based on favorite color\n",
    "\n",
    "plt.figure(figsize=(6,5))\n",
    "ax = sns.countplot(data=train_data,x = 'Favorite Color',hue = 'Gender')\n",
    "\n",
    "    \n",
    "plt.title('Gender plot based on favorite color')\n",
    "plt.show()"
   ]
  },
  {
   "cell_type": "markdown",
   "id": "4b62c987",
   "metadata": {
    "papermill": {
     "duration": 0.033473,
     "end_time": "2022-03-25T17:23:41.367626",
     "exception": false,
     "start_time": "2022-03-25T17:23:41.334153",
     "status": "completed"
    },
    "tags": []
   },
   "source": [
    "* Seems Cool colors favored by Male and Warm colors favored by Female persons"
   ]
  },
  {
   "cell_type": "code",
   "execution_count": 14,
   "id": "defc32bf",
   "metadata": {
    "execution": {
     "iopub.execute_input": "2022-03-25T17:23:41.439372Z",
     "iopub.status.busy": "2022-03-25T17:23:41.438378Z",
     "iopub.status.idle": "2022-03-25T17:23:41.732009Z",
     "shell.execute_reply": "2022-03-25T17:23:41.732476Z",
     "shell.execute_reply.started": "2022-03-25T17:22:28.869130Z"
    },
    "papermill": {
     "duration": 0.330959,
     "end_time": "2022-03-25T17:23:41.732650",
     "exception": false,
     "start_time": "2022-03-25T17:23:41.401691",
     "status": "completed"
    },
    "tags": []
   },
   "outputs": [
    {
     "data": {
      "image/png": "[encoded data removed]",
      "text/plain": [
       "<Figure size 720x432 with 1 Axes>"
      ]
     },
     "metadata": {
      "needs_background": "light"
     },
     "output_type": "display_data"
    }
   ],
   "source": [
    "# Plotting gender based on favorite music genre\n",
    "\n",
    "plt.figure(figsize=(10,6))\n",
    "ax = sns.countplot(data=train_data,x = 'Favorite Music Genre',hue = 'Gender')\n",
    "\n",
    "\n",
    "    \n",
    "plt.title('Gender plot based on favorite music genre')\n",
    "plt.show()"
   ]
  },
  {
   "cell_type": "markdown",
   "id": "9a5beac1",
   "metadata": {
    "papermill": {
     "duration": 0.034632,
     "end_time": "2022-03-25T17:23:41.803759",
     "exception": false,
     "start_time": "2022-03-25T17:23:41.769127",
     "status": "completed"
    },
    "tags": []
   },
   "source": [
    "* Overall Pop and Rock music are mostly loved among all\n",
    "* Hip hop, Electronic and R&B and soul music loved by Male persons\n",
    "* Pop and Jazz/Blues mostly loved by Female persons\n",
    "* Seems Rock music and Folk/Traditional loved equally"
   ]
  },
  {
   "cell_type": "code",
   "execution_count": 15,
   "id": "28978092",
   "metadata": {
    "execution": {
     "iopub.execute_input": "2022-03-25T17:23:41.884386Z",
     "iopub.status.busy": "2022-03-25T17:23:41.882258Z",
     "iopub.status.idle": "2022-03-25T17:23:42.117542Z",
     "shell.execute_reply": "2022-03-25T17:23:42.116916Z",
     "shell.execute_reply.started": "2022-03-25T17:22:30.181837Z"
    },
    "papermill": {
     "duration": 0.278564,
     "end_time": "2022-03-25T17:23:42.117681",
     "exception": false,
     "start_time": "2022-03-25T17:23:41.839117",
     "status": "completed"
    },
    "tags": []
   },
   "outputs": [
    {
     "data": {
      "image/png": "[encoded data removed]",
      "text/plain": [
       "<Figure size 720x432 with 1 Axes>"
      ]
     },
     "metadata": {
      "needs_background": "light"
     },
     "output_type": "display_data"
    }
   ],
   "source": [
    "# Plotting gender based on favorite beverage\n",
    "\n",
    "plt.figure(figsize=(10,6))\n",
    "ax = sns.countplot(data=train_data,x = 'Favorite Beverage',hue = 'Gender')\n",
    "\n",
    "\n",
    "    \n",
    "plt.title('Gender plot based on favorite beverage')\n",
    "plt.show()"
   ]
  },
  {
   "cell_type": "markdown",
   "id": "b5902619",
   "metadata": {
    "papermill": {
     "duration": 0.035827,
     "end_time": "2022-03-25T17:23:42.189605",
     "exception": false,
     "start_time": "2022-03-25T17:23:42.153778",
     "status": "completed"
    },
    "tags": []
   },
   "source": [
    "* Beer is the most loved bevarage among all and most loved by male persons also\n",
    "* Seems Wine is the favorite for female persons"
   ]
  },
  {
   "cell_type": "code",
   "execution_count": 16,
   "id": "d1f5f049",
   "metadata": {
    "execution": {
     "iopub.execute_input": "2022-03-25T17:23:42.301694Z",
     "iopub.status.busy": "2022-03-25T17:23:42.290384Z",
     "iopub.status.idle": "2022-03-25T17:23:42.480919Z",
     "shell.execute_reply": "2022-03-25T17:23:42.480311Z",
     "shell.execute_reply.started": "2022-03-25T17:22:31.504312Z"
    },
    "papermill": {
     "duration": 0.255512,
     "end_time": "2022-03-25T17:23:42.481063",
     "exception": false,
     "start_time": "2022-03-25T17:23:42.225551",
     "status": "completed"
    },
    "tags": []
   },
   "outputs": [
    {
     "data": {
      "image/png": "[encoded data removed]",
      "text/plain": [
       "<Figure size 720x432 with 1 Axes>"
      ]
     },
     "metadata": {
      "needs_background": "light"
     },
     "output_type": "display_data"
    }
   ],
   "source": [
    "# Plotting gender based on favorite beverage\n",
    "\n",
    "plt.figure(figsize=(10,6))\n",
    "ax = sns.countplot(data=train_data,x = 'Favorite Soft Drink',hue = 'Gender')\n",
    "\n",
    "plt.title('Gender plot based on favorite soft drink')\n",
    "plt.show()"
   ]
  },
  {
   "cell_type": "markdown",
   "id": "a0556531",
   "metadata": {
    "papermill": {
     "duration": 0.037834,
     "end_time": "2022-03-25T17:23:42.556609",
     "exception": false,
     "start_time": "2022-03-25T17:23:42.518775",
     "status": "completed"
    },
    "tags": []
   },
   "source": [
    "* Most of the people loved Coca Cola/Pepsi"
   ]
  },
  {
   "cell_type": "code",
   "execution_count": 17,
   "id": "7e91a353",
   "metadata": {
    "execution": {
     "iopub.execute_input": "2022-03-25T17:23:42.671027Z",
     "iopub.status.busy": "2022-03-25T17:23:42.668205Z",
     "iopub.status.idle": "2022-03-25T17:23:46.902027Z",
     "shell.execute_reply": "2022-03-25T17:23:46.902569Z",
     "shell.execute_reply.started": "2022-03-25T17:22:32.973034Z"
    },
    "papermill": {
     "duration": 4.308523,
     "end_time": "2022-03-25T17:23:46.902752",
     "exception": false,
     "start_time": "2022-03-25T17:23:42.594229",
     "status": "completed"
    },
    "tags": []
   },
   "outputs": [
    {
     "data": {
      "image/png": "[encoded data removed]",
      "text/plain": [
       "<Figure size 1484.88x2160 with 24 Axes>"
      ]
     },
     "metadata": {
      "needs_background": "light"
     },
     "output_type": "display_data"
    }
   ],
   "source": [
    "sns.catplot(data=train_data,x = 'Favorite Color',col='Favorite Soft Drink',row='Favorite Beverage',\\\n",
    "            legend=True,hue = 'Gender',kind = 'count')\n",
    "plt.show()"
   ]
  },
  {
   "cell_type": "markdown",
   "id": "67089d3a",
   "metadata": {
    "papermill": {
     "duration": 0.040225,
     "end_time": "2022-03-25T17:23:46.982932",
     "exception": false,
     "start_time": "2022-03-25T17:23:46.942707",
     "status": "completed"
    },
    "tags": []
   },
   "source": [
    "Some Insights from the above chart\n",
    "* There are no persons with favorite color is neutral, favorite beverage & soft drinks with other\n",
    "* If favorite color is warm and favorite beverage is other and favorite soft drink is 7up/sprite, it must be Female\n",
    "* If favorite color is neutral and favorite beverage is beer and favorite soft drink is 7up/sprite, then it is Male\n",
    "* There are no persons liking with beverage vodka, soft drink Fanta & others\n",
    "* If beverage is vodka and soft drink is 7up/sprite, then they are Male persons\n",
    "* If soft drink is other and favorite beverages wine/whiskey, they are Male persons\n",
    "* Those who does not drink and like coca cola/pepsi soft drinks, they are Female\n",
    "* Those who does not drink and like soft drink other, then they are Male"
   ]
  },
  {
   "cell_type": "markdown",
   "id": "00f71ab8",
   "metadata": {
    "papermill": {
     "duration": 0.040671,
     "end_time": "2022-03-25T17:23:47.064668",
     "exception": false,
     "start_time": "2022-03-25T17:23:47.023997",
     "status": "completed"
    },
    "tags": []
   },
   "source": [
    "### Data Preprocessing"
   ]
  },
  {
   "cell_type": "code",
   "execution_count": 18,
   "id": "2dfc6af4",
   "metadata": {
    "execution": {
     "iopub.execute_input": "2022-03-25T17:23:47.151871Z",
     "iopub.status.busy": "2022-03-25T17:23:47.151152Z",
     "iopub.status.idle": "2022-03-25T17:23:47.154611Z",
     "shell.execute_reply": "2022-03-25T17:23:47.153992Z",
     "shell.execute_reply.started": "2022-03-25T17:22:37.546578Z"
    },
    "papermill": {
     "duration": 0.050487,
     "end_time": "2022-03-25T17:23:47.154764",
     "exception": false,
     "start_time": "2022-03-25T17:23:47.104277",
     "status": "completed"
    },
    "tags": []
   },
   "outputs": [
    {
     "data": {
      "text/plain": [
       "ID                      0\n",
       "Favorite Color          0\n",
       "Favorite Music Genre    0\n",
       "Favorite Beverage       0\n",
       "Favorite Soft Drink     0\n",
       "Gender                  0\n",
       "dtype: int64"
      ]
     },
     "execution_count": 18,
     "metadata": {},
     "output_type": "execute_result"
    }
   ],
   "source": [
    "# Checking for missing values\n",
    "train_data.isna().sum()"
   ]
  },
  {
   "cell_type": "markdown",
   "id": "81b22f79",
   "metadata": {
    "papermill": {
     "duration": 0.039365,
     "end_time": "2022-03-25T17:23:47.234430",
     "exception": false,
     "start_time": "2022-03-25T17:23:47.195065",
     "status": "completed"
    },
    "tags": []
   },
   "source": [
    "* No missing values"
   ]
  },
  {
   "cell_type": "code",
   "execution_count": 19,
   "id": "f7a50233",
   "metadata": {
    "execution": {
     "iopub.execute_input": "2022-03-25T17:23:47.317131Z",
     "iopub.status.busy": "2022-03-25T17:23:47.316501Z",
     "iopub.status.idle": "2022-03-25T17:23:47.331292Z",
     "shell.execute_reply": "2022-03-25T17:23:47.332176Z",
     "shell.execute_reply.started": "2022-03-25T17:22:37.557651Z"
    },
    "papermill": {
     "duration": 0.057979,
     "end_time": "2022-03-25T17:23:47.332363",
     "exception": false,
     "start_time": "2022-03-25T17:23:47.274384",
     "status": "completed"
    },
    "tags": []
   },
   "outputs": [
    {
     "name": "stdout",
     "output_type": "stream",
     "text": [
      "<class 'pandas.core.frame.DataFrame'>\n",
      "RangeIndex: 55 entries, 0 to 54\n",
      "Data columns (total 6 columns):\n",
      " #   Column                Non-Null Count  Dtype \n",
      "---  ------                --------------  ----- \n",
      " 0   ID                    55 non-null     int64 \n",
      " 1   Favorite Color        55 non-null     object\n",
      " 2   Favorite Music Genre  55 non-null     object\n",
      " 3   Favorite Beverage     55 non-null     object\n",
      " 4   Favorite Soft Drink   55 non-null     object\n",
      " 5   Gender                55 non-null     object\n",
      "dtypes: int64(1), object(5)\n",
      "memory usage: 2.7+ KB\n"
     ]
    }
   ],
   "source": [
    "# Checking data types\n",
    "train_data.info()"
   ]
  },
  {
   "cell_type": "code",
   "execution_count": 20,
   "id": "9c906ccf",
   "metadata": {
    "execution": {
     "iopub.execute_input": "2022-03-25T17:23:47.420751Z",
     "iopub.status.busy": "2022-03-25T17:23:47.415872Z",
     "iopub.status.idle": "2022-03-25T17:23:47.423929Z",
     "shell.execute_reply": "2022-03-25T17:23:47.423382Z",
     "shell.execute_reply.started": "2022-03-25T17:22:37.577208Z"
    },
    "papermill": {
     "duration": 0.051297,
     "end_time": "2022-03-25T17:23:47.424077",
     "exception": false,
     "start_time": "2022-03-25T17:23:47.372780",
     "status": "completed"
    },
    "tags": []
   },
   "outputs": [],
   "source": [
    "# Separating features and target\n",
    "X_train = train_data.drop(['ID','Gender'],axis=1)\n",
    "y_train = train_data['Gender']\n",
    "\n",
    "X_test = test_data.drop(['ID','Gender'],axis=1)\n",
    "y_test = test_data['Gender']"
   ]
  },
  {
   "cell_type": "markdown",
   "id": "8ea8d82d",
   "metadata": {
    "papermill": {
     "duration": 0.039969,
     "end_time": "2022-03-25T17:23:47.506536",
     "exception": false,
     "start_time": "2022-03-25T17:23:47.466567",
     "status": "completed"
    },
    "tags": []
   },
   "source": [
    "### Model Building"
   ]
  },
  {
   "cell_type": "code",
   "execution_count": 21,
   "id": "4881f14b",
   "metadata": {
    "execution": {
     "iopub.execute_input": "2022-03-25T17:23:47.600612Z",
     "iopub.status.busy": "2022-03-25T17:23:47.599918Z",
     "iopub.status.idle": "2022-03-25T17:23:47.714154Z",
     "shell.execute_reply": "2022-03-25T17:23:47.714628Z",
     "shell.execute_reply.started": "2022-03-25T17:22:37.706508Z"
    },
    "papermill": {
     "duration": 0.165546,
     "end_time": "2022-03-25T17:23:47.714813",
     "exception": false,
     "start_time": "2022-03-25T17:23:47.549267",
     "status": "completed"
    },
    "tags": []
   },
   "outputs": [
    {
     "data": {
      "text/plain": [
       "<catboost.core.CatBoostClassifier at 0x1cd3e616790>"
      ]
     },
     "execution_count": 21,
     "metadata": {},
     "output_type": "execute_result"
    }
   ],
   "source": [
    "# Catboost model\n",
    "model = CatBoostClassifier(iterations=3,learning_rate=1,max_depth=2,loss_function='Logloss')\n",
    "model.fit(X_train,y_train,cat_features = ['Favorite Color','Favorite Music Genre','Favorite Beverage','Favorite Soft Drink'],\\\n",
    "          verbose=False)"
   ]
  },
  {
   "cell_type": "markdown",
   "id": "abdf6a06",
   "metadata": {
    "papermill": {
     "duration": 0.040853,
     "end_time": "2022-03-25T17:23:47.796525",
     "exception": false,
     "start_time": "2022-03-25T17:23:47.755672",
     "status": "completed"
    },
    "tags": []
   },
   "source": [
    "### Predictions and Submission"
   ]
  },
  {
   "cell_type": "code",
   "execution_count": 22,
   "id": "00f6cf11",
   "metadata": {
    "execution": {
     "iopub.execute_input": "2022-03-25T17:23:47.881973Z",
     "iopub.status.busy": "2022-03-25T17:23:47.880974Z",
     "iopub.status.idle": "2022-03-25T17:23:47.886560Z",
     "shell.execute_reply": "2022-03-25T17:23:47.887112Z",
     "shell.execute_reply.started": "2022-03-25T17:22:38.875630Z"
    },
    "papermill": {
     "duration": 0.049746,
     "end_time": "2022-03-25T17:23:47.887278",
     "exception": false,
     "start_time": "2022-03-25T17:23:47.837532",
     "status": "completed"
    },
    "tags": []
   },
   "outputs": [],
   "source": [
    "# Predictions\n",
    "y_pred = model.predict(X_test)"
   ]
  },
  {
   "cell_type": "code",
   "execution_count": 23,
   "id": "e5000e2f",
   "metadata": {
    "execution": {
     "iopub.execute_input": "2022-03-25T17:23:47.972708Z",
     "iopub.status.busy": "2022-03-25T17:23:47.971721Z",
     "iopub.status.idle": "2022-03-25T17:23:47.977660Z",
     "shell.execute_reply": "2022-03-25T17:23:47.978289Z",
     "shell.execute_reply.started": "2022-03-25T17:22:39.723495Z"
    },
    "papermill": {
     "duration": 0.050075,
     "end_time": "2022-03-25T17:23:47.978477",
     "exception": false,
     "start_time": "2022-03-25T17:23:47.928402",
     "status": "completed"
    },
    "tags": []
   },
   "outputs": [
    {
     "name": "stdout",
     "output_type": "stream",
     "text": [
      "Model Accuracy Score on Test data:  0.73\n"
     ]
    }
   ],
   "source": [
    "# Model Accuracy score\n",
    "print(\"Model Accuracy Score on Test data: \",round(accuracy_score(y_test,y_pred),2))"
   ]
  },
  {
   "cell_type": "code",
   "execution_count": 24,
   "id": "a3ccf398",
   "metadata": {
    "execution": {
     "iopub.execute_input": "2022-03-25T17:23:48.065800Z",
     "iopub.status.busy": "2022-03-25T17:23:48.064865Z",
     "iopub.status.idle": "2022-03-25T17:23:48.228667Z",
     "shell.execute_reply": "2022-03-25T17:23:48.228158Z",
     "shell.execute_reply.started": "2022-03-25T17:22:40.202597Z"
    },
    "papermill": {
     "duration": 0.208787,
     "end_time": "2022-03-25T17:23:48.228813",
     "exception": false,
     "start_time": "2022-03-25T17:23:48.020026",
     "status": "completed"
    },
    "tags": []
   },
   "outputs": [
    {
     "data": {
      "image/png": "[encoded data removed]",
      "text/plain": [
       "<Figure size 432x288 with 2 Axes>"
      ]
     },
     "metadata": {
      "needs_background": "light"
     },
     "output_type": "display_data"
    }
   ],
   "source": [
    "# Confusion matrix\n",
    "cm = confusion_matrix(y_test,y_pred,labels=model.classes_)\n",
    "display = ConfusionMatrixDisplay(confusion_matrix=cm,display_labels = model.classes_)\n",
    "display.plot()\n",
    "plt.show()"
   ]
  },
  {
   "cell_type": "code",
   "execution_count": 25,
   "id": "62876b9e",
   "metadata": {
    "execution": {
     "iopub.execute_input": "2022-03-25T17:23:48.320705Z",
     "iopub.status.busy": "2022-03-25T17:23:48.319611Z",
     "iopub.status.idle": "2022-03-25T17:23:48.326245Z",
     "shell.execute_reply": "2022-03-25T17:23:48.326737Z",
     "shell.execute_reply.started": "2022-03-25T17:22:40.446207Z"
    },
    "papermill": {
     "duration": 0.056226,
     "end_time": "2022-03-25T17:23:48.326928",
     "exception": false,
     "start_time": "2022-03-25T17:23:48.270702",
     "status": "completed"
    },
    "tags": []
   },
   "outputs": [
    {
     "name": "stdout",
     "output_type": "stream",
     "text": [
      "              precision    recall  f1-score   support\n",
      "\n",
      "           F       0.67      0.80      0.73         5\n",
      "           M       0.80      0.67      0.73         6\n",
      "\n",
      "    accuracy                           0.73        11\n",
      "   macro avg       0.73      0.73      0.73        11\n",
      "weighted avg       0.74      0.73      0.73        11\n",
      "\n"
     ]
    }
   ],
   "source": [
    "# Classification Report\n",
    "print(classification_report(y_test,y_pred))"
   ]
  },
  {
   "cell_type": "code",
   "execution_count": 27,
   "id": "0f96611d",
   "metadata": {
    "execution": {
     "iopub.execute_input": "2022-03-25T17:23:48.415791Z",
     "iopub.status.busy": "2022-03-25T17:23:48.415176Z",
     "iopub.status.idle": "2022-03-25T17:23:48.425870Z",
     "shell.execute_reply": "2022-03-25T17:23:48.426436Z",
     "shell.execute_reply.started": "2022-03-25T17:22:40.547267Z"
    },
    "papermill": {
     "duration": 0.056422,
     "end_time": "2022-03-25T17:23:48.426614",
     "exception": false,
     "start_time": "2022-03-25T17:23:48.370192",
     "status": "completed"
    },
    "tags": []
   },
   "outputs": [],
   "source": [
    "# Submitting results\n",
    "y_pred = pd.DataFrame(y_pred,columns = ['Gender'])\n",
    "y_pred['Gender'] = y_pred['Gender'].map({'M':1,'F':0})\n",
    "y_id = pd.DataFrame(test_data.ID)\n",
    "\n",
    "submission = pd.concat([y_id,y_pred],axis=1)\n",
    "submission.to_csv('submission.csv',index=False)"
   ]
  },
  {
   "cell_type": "code",
   "execution_count": null,
   "id": "d5abf023",
   "metadata": {},
   "outputs": [],
   "source": []
  }
 ],
 "metadata": {
  "kernelspec": {
   "display_name": "Python 3",
   "language": "python",
   "name": "python3"
  },
  "language_info": {
   "codemirror_mode": {
    "name": "ipython",
    "version": 3
   },
   "file_extension": ".py",
   "mimetype": "text/x-python",
   "name": "python",
   "nbconvert_exporter": "python",
   "pygments_lexer": "ipython3",
   "version": "3.8.8"
  },
  "papermill": {
   "default_parameters": {},
   "duration": 20.885111,
   "end_time": "2022-03-25T17:23:49.279736",
   "environment_variables": {},
   "exception": null,
   "input_path": "__notebook__.ipynb",
   "output_path": "__notebook__.ipynb",
   "parameters": {},
   "start_time": "2022-03-25T17:23:28.394625",
   "version": "2.3.3"
  }
 },
 "nbformat": 4,
 "nbformat_minor": 5
}
